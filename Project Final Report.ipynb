{
 "cells": [
  {
   "cell_type": "markdown",
   "metadata": {},
   "source": [
    "# Mathematical Modeling and Visualization of COVID-19 Cases in South Korea "
   ]
  },
  {
   "cell_type": "markdown",
   "metadata": {},
   "source": [
    "Seongwon, Yoon, Kyunghyun, Ryu"
   ]
  },
  {
   "cell_type": "markdown",
   "metadata": {},
   "source": [
    "## Overview"
   ]
  },
  {
   "cell_type": "markdown",
   "metadata": {},
   "source": [
    " Kim, Soyoung et al proposed the Modified SEIR Model for predicting the spread of COVID-19 in Korea. This is significant in terms of considering the behavior change of people like wearing masks or staying home. We implemented this model into python code by using numerical methods and simulated the spread of COVID-19 based on confirmed cases on March 1st. We also visualized the simulation data and actual data with folium and seaborn to compare each other in order to verify the validity of the model."
   ]
  },
  {
   "cell_type": "markdown",
   "metadata": {},
   "source": [
    "## Introduction"
   ]
  },
  {
   "cell_type": "markdown",
   "metadata": {},
   "source": [
    " Adopting the mathematical model of COVID-19 transmission dynamics in the reference [1], we simulate the number of COVID-19 cases in South Korea based on the condition of March 1st. Python codes to solve differential equations of the model with numerical methods are written.<br>"
   ]
  },
  {
   "cell_type": "markdown",
   "metadata": {},
   "source": [
    "모델 사진 넣기"
   ]
  },
  {
   "cell_type": "markdown",
   "metadata": {},
   "source": [
    " With simulation code, we got the simulated number of cases based on March 1st. Also We got the actual number of cases in Korea from reference [3]. We visualized both datas on the map by folium module and plotted by seaborn module. With visualized data, we could easily compare each data and verify whether the transmission dynamic model was correct."
   ]
  },
  {
   "cell_type": "markdown",
   "metadata": {},
   "source": [
    "## Methodology"
   ]
  },
  {
   "cell_type": "markdown",
   "metadata": {},
   "source": [
    "### Modules"
   ]
  },
  {
   "cell_type": "markdown",
   "metadata": {},
   "source": [
    "We used sys, os, numpy, pandas, seaborn, datetime, folium library.<br>\n",
    "각각 설명 <br>\n",
    "Numpy and Pandas are for solving Modified SEIR Model ODE and processing data."
   ]
  },
  {
   "cell_type": "code",
   "execution_count": null,
   "metadata": {},
   "outputs": [],
   "source": [
    "import sys\n",
    "import os\n",
    "\n",
    "import numpy as np\n",
    "import numba as nb\n",
    "import pandas as pd\n",
    "import seaborn as sb\n",
    "import datetime\n",
    "\n",
    "import folium\n",
    "from folium import Choropleth, Circle, Marker\n",
    "from folium.plugins import TimestampedGeoJson, HeatMap"
   ]
  },
  {
   "cell_type": "markdown",
   "metadata": {},
   "source": [
    "### Variables"
   ]
  },
  {
   "cell_type": "markdown",
   "metadata": {},
   "source": [
    "We had to manually input some variables such as city list, latitude and longitude of cities, and population of each cities <br>\n",
    "Also, We got the value of coefficent in Modified SEIR Model from reference [1] and [2]"
   ]
  },
  {
   "cell_type": "code",
   "execution_count": null,
   "metadata": {},
   "outputs": [],
   "source": [
    "# Manually input variable\n",
    "# nation\n",
    "# 's', 'sf', 'r', etc...\n",
    "# date\n",
    "\n",
    "str = 'confirmed'\n",
    "nation = 'South_Korea'\n",
    "startdate = '2020-03-01'\n",
    "date = '2020-02-01'\n",
    "city_name = 'Jeju-do'\n",
    "city_list = ['Seoul', 'Busan', 'Daegu', 'Incheon', 'Gwangju', 'Daejeon', 'Ulsan', 'Sejong', 'Gyeonggi-do', 'Gangwon-do', 'Chungcheongbuk-do', 'Chungcheongnam-do', 'Jeollabuk-do', 'Jeollanam-do', 'Gyeongsangbuk-do', 'Gyeongsangnam-do', 'Jeju-do']\n",
    "population_list = [9662000, 3373000, 2432000, 2944000, 1494000, 1509000, 1147000, 331000, 13238000, 1517000, 1626000, 2188000, 1803000, 1773000, 2665000, 3350000, 660000]\n",
    "latitude_list = [37.566953 ,35.179884 ,35.87215 ,37.456188 ,35.160467 ,36.350621 ,35.539797 ,36.480132 ,37.275119 ,37.885369 ,36.63568 ,36.658976 ,35.820308 ,34.816095 ,36.576032 ,35.238294, 33.488936]\n",
    "longitude_list = [126.977977, 129.074796, 128.601783, 126.70592, 126.851392, 127.384744, 129.311538, 127.289021, 127.009466, 127.729868, 127.491384, 126.673318, 127.108791, 126.463021, 128.505599, 128.692397, 126.500423]\n",
    "city_population_list = {'province' : city_list,\n",
    "                       'population' : population_list,\n",
    "                        'latitude' : latitude_list,\n",
    "                        'longitude' : longitude_list\n",
    "                       }\n",
    "df_city_population_list = pd.DataFrame(city_population_list, columns = ['province', 'population', 'latitude', 'longitude'])\n",
    "d = 150 #total simulation days\n",
    "day = np.array(range(d))\n",
    "# transmission rate and other coefficient\n",
    "b = 0.1389\n",
    "b_f = b * 0.6\n",
    "T = 0.001\n",
    "delta = 0.02\n",
    "k = 1 / 4\n",
    "a = 1 / 4\n",
    "g = 1 / 14"
   ]
  },
  {
   "cell_type": "markdown",
   "metadata": {},
   "source": [
    "### Dataset"
   ]
  },
  {
   "cell_type": "markdown",
   "metadata": {},
   "source": [
    "Dataset for this project is from Kaggle, reference [4]."
   ]
  },
  {
   "cell_type": "code",
   "execution_count": 1,
   "metadata": {},
   "outputs": [
    {
     "ename": "NameError",
     "evalue": "name 'pd' is not defined",
     "output_type": "error",
     "traceback": [
      "\u001b[1;31m---------------------------------------------------------------------------\u001b[0m",
      "\u001b[1;31mNameError\u001b[0m                                 Traceback (most recent call last)",
      "\u001b[1;32m<ipython-input-1-fa451999c342>\u001b[0m in \u001b[0;36m<module>\u001b[1;34m\u001b[0m\n\u001b[0;32m      1\u001b[0m \u001b[1;31m# Dataset\u001b[0m\u001b[1;33m\u001b[0m\u001b[1;33m\u001b[0m\u001b[1;33m\u001b[0m\u001b[0m\n\u001b[0;32m      2\u001b[0m \u001b[0mgeo_data\u001b[0m \u001b[1;33m=\u001b[0m \u001b[1;34m'/home/tonyyoon/week5/TL_SCCO_CTPRVN.json'\u001b[0m\u001b[1;33m\u001b[0m\u001b[1;33m\u001b[0m\u001b[0m\n\u001b[1;32m----> 3\u001b[1;33m \u001b[0mdf_region_info\u001b[0m \u001b[1;33m=\u001b[0m \u001b[0mpd\u001b[0m\u001b[1;33m.\u001b[0m\u001b[0mread_csv\u001b[0m\u001b[1;33m(\u001b[0m\u001b[1;34m'/home/tonyyoon/week5/Region.csv'\u001b[0m\u001b[1;33m)\u001b[0m\u001b[1;33m\u001b[0m\u001b[1;33m\u001b[0m\u001b[0m\n\u001b[0m\u001b[0;32m      4\u001b[0m \u001b[0mdf_time\u001b[0m \u001b[1;33m=\u001b[0m \u001b[0mpd\u001b[0m\u001b[1;33m.\u001b[0m\u001b[0mread_csv\u001b[0m\u001b[1;33m(\u001b[0m\u001b[1;34m'/home/tonyyoon/week5/Time.csv'\u001b[0m\u001b[1;33m)\u001b[0m\u001b[1;33m\u001b[0m\u001b[1;33m\u001b[0m\u001b[0m\n\u001b[0;32m      5\u001b[0m \u001b[0mdf_time_province\u001b[0m \u001b[1;33m=\u001b[0m \u001b[0mpd\u001b[0m\u001b[1;33m.\u001b[0m\u001b[0mread_csv\u001b[0m\u001b[1;33m(\u001b[0m\u001b[1;34m'/home/tonyyoon/week5/TimeProvince.csv'\u001b[0m\u001b[1;33m)\u001b[0m\u001b[1;33m\u001b[0m\u001b[1;33m\u001b[0m\u001b[0m\n",
      "\u001b[1;31mNameError\u001b[0m: name 'pd' is not defined"
     ]
    }
   ],
   "source": [
    "# Dataset\n",
    "geo_data = '/home/tonyyoon/week5/TL_SCCO_CTPRVN.json'\n",
    "df_region_info = pd.read_csv('/home/tonyyoon/week5/Region.csv')\n",
    "df_time = pd.read_csv('/home/tonyyoon/week5/Time.csv')\n",
    "df_time_province = pd.read_csv('/home/tonyyoon/week5/TimeProvince.csv')"
   ]
  },
  {
   "cell_type": "code",
   "execution_count": null,
   "metadata": {},
   "outputs": [],
   "source": []
  },
  {
   "cell_type": "markdown",
   "metadata": {},
   "source": [
    "## Results"
   ]
  },
  {
   "cell_type": "code",
   "execution_count": null,
   "metadata": {},
   "outputs": [],
   "source": []
  },
  {
   "cell_type": "markdown",
   "metadata": {},
   "source": [
    "## Discussion"
   ]
  },
  {
   "cell_type": "code",
   "execution_count": null,
   "metadata": {},
   "outputs": [],
   "source": []
  },
  {
   "cell_type": "markdown",
   "metadata": {},
   "source": [
    "## Summary"
   ]
  },
  {
   "cell_type": "code",
   "execution_count": null,
   "metadata": {},
   "outputs": [],
   "source": []
  },
  {
   "cell_type": "markdown",
   "metadata": {},
   "source": [
    "## References"
   ]
  },
  {
   "cell_type": "markdown",
   "metadata": {},
   "source": [
    "[1] Kim, Soyoung, Yu Bin Seo, and Eunok Jung. \"Prediction of COVID-19 transmission dynamics using a mathematical model considering behavior changes in Korea.\" Epidemiology and health 42 (2020).<br>\n",
    "[2] Choi, Sunhwa, and Moran Ki. \"Estimating the reproductive number and the outbreak size of COVID-19 in Korea.\" Epidemiology and health 42 (2020).<br>\n",
    "[3] Data Science for COVID-19 (DS4C) | Kaggle- https://www.kaggle.com/kimjihoo/coronavirusdataset <br>\n",
    "[4] Korea Centers for Disease Control & Prevention- http://www.cdc.go.kr/cdc_eng/ <br>\n",
    "[5] COVID-19 in Republic of Korea by Ministry of Health and Welfare-  http://ncov.mohw.go.kr/en <br>\n",
    "[6] Statics Korea.  http://www.index.go.kr/potal/main/EachDtlPageDetail.do?idx_cd=1007 <br>\n",
    "[7] Timo Mitze, Reinhold Kosfeld, Johannes Rode, Klaus Wälde 22 June 2020, Unmasked! The effect of face masks on the spread of COVID-19 | VOX, CEPR Policy Portal <br>"
   ]
  }
 ],
 "metadata": {
  "kernelspec": {
   "display_name": "Python 3",
   "language": "python",
   "name": "python3"
  },
  "language_info": {
   "codemirror_mode": {
    "name": "ipython",
    "version": 3
   },
   "file_extension": ".py",
   "mimetype": "text/x-python",
   "name": "python",
   "nbconvert_exporter": "python",
   "pygments_lexer": "ipython3",
   "version": "3.7.6"
  }
 },
 "nbformat": 4,
 "nbformat_minor": 4
}
